{
  "nbformat": 4,
  "nbformat_minor": 0,
  "metadata": {
    "colab": {
      "provenance": [],
      "authorship_tag": "ABX9TyM0t1LhQtO/d8eu76xMIc7g",
      "include_colab_link": true
    },
    "kernelspec": {
      "name": "python3",
      "display_name": "Python 3"
    },
    "language_info": {
      "name": "python"
    }
  },
  "cells": [
    {
      "cell_type": "markdown",
      "metadata": {
        "id": "view-in-github",
        "colab_type": "text"
      },
      "source": [
        "<a href=\"https://colab.research.google.com/github/PraeJi/Gaskathon-PTT/blob/main/GaskathonTest2.ipynb\" target=\"_parent\"><img src=\"https://colab.research.google.com/assets/colab-badge.svg\" alt=\"Open In Colab\"/></a>"
      ]
    },
    {
      "cell_type": "code",
      "execution_count": null,
      "metadata": {
        "colab": {
          "base_uri": "https://localhost:8080/"
        },
        "id": "DVVkRW2mbaAa",
        "outputId": "31d79a64-000d-4cd7-8afc-5d63f401b1f8"
      },
      "outputs": [
        {
          "output_type": "stream",
          "name": "stdout",
          "text": [
            "Mean Squared Error: 2.6769651934396634\n"
          ]
        }
      ],
      "source": [
        "import pandas as pd\n",
        "from sklearn.model_selection import train_test_split\n",
        "from sklearn.linear_model import LinearRegression\n",
        "from sklearn.metrics import mean_squared_error\n",
        "\n",
        "df = pd.read_csv('DataGas1.csv')\n",
        "\n",
        "df_encoded = pd.get_dummies(df, columns=['Equipment', 'Waste type']) #One-Hot Encoding\n",
        "\n",
        "X = df_encoded.drop(['Waste quantity (Tons)', 'System'], axis=1)  # ไม่รวม 'System'\n",
        "y = df_encoded['Waste quantity (Tons)']\n",
        "\n",
        "X_train, X_test, y_train, y_test = train_test_split(X, y, test_size=0.2, random_state=42)\n",
        "\n",
        "model = LinearRegression()\n",
        "model.fit(X_train, y_train)\n",
        "\n",
        "y_pred = model.predict(X_test) # ทดสอบโมเดล\n",
        "\n",
        "mse = mean_squared_error(y_test, y_pred) # ประเมินประสิทธิภาพ\n",
        "print(f'Mean Squared Error: {mse}')\n"
      ]
    },
    {
      "cell_type": "code",
      "source": [
        "# เปรียบเทียบค่า actual กับค่าทำนาย\n",
        "comparison_df = pd.DataFrame({'Actual': y_test, 'Predicted': y_pred})\n",
        "print(comparison_df)"
      ],
      "metadata": {
        "colab": {
          "base_uri": "https://localhost:8080/"
        },
        "id": "cgh6IhhdjupX",
        "outputId": "0c09fb65-9bc0-407c-ccf9-89bb314a2bb4"
      },
      "execution_count": null,
      "outputs": [
        {
          "output_type": "stream",
          "name": "stdout",
          "text": [
            "       Actual  Predicted\n",
            "80  42.200000  42.098609\n",
            "77   9.062933  10.587623\n",
            "73   5.796327   4.885753\n",
            "94  19.657333  20.069935\n",
            "33   5.237760   4.049335\n",
            "79   5.589160   2.141380\n",
            "69   3.796327   4.603116\n",
            "42   0.360000   0.124862\n",
            "0   30.370613  31.261866\n",
            "10   0.360000  -0.157775\n",
            "64  27.251733  26.672758\n",
            "30   0.340000   0.124862\n",
            "18   0.360000  -0.157775\n",
            "4   28.251733  26.107483\n",
            "31   5.589160   1.576105\n",
            "26  19.657333  19.504660\n",
            "12  30.370613  31.261866\n",
            "22  17.657333  19.222022\n",
            "53   7.062933  10.304986\n",
            "85   4.796327   4.885753\n"
          ]
        }
      ]
    },
    {
      "cell_type": "code",
      "source": [
        "# Variance of the Target Variable\n",
        "target_variance = y.var()\n",
        "\n",
        "# Calculate Accuracy in Percentage\n",
        "accuracy_percentage = 100 * (1 - (mse / target_variance))\n",
        "\n",
        "print(f'Accuracy: {accuracy_percentage:.2f}%')"
      ],
      "metadata": {
        "id": "ZSHU0bJepcl3",
        "outputId": "bb16f225-2876-426d-f847-28e9b9861bdd",
        "colab": {
          "base_uri": "https://localhost:8080/"
        }
      },
      "execution_count": null,
      "outputs": [
        {
          "output_type": "stream",
          "name": "stdout",
          "text": [
            "Accuracy: 98.35%\n"
          ]
        }
      ]
    }
  ]
}